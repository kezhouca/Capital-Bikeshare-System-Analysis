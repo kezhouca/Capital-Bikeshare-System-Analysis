{
 "cells": [
  {
   "cell_type": "markdown",
   "metadata": {},
   "source": [
    "# Trip, Station Data Analysis in Spark"
   ]
  },
  {
   "cell_type": "code",
   "execution_count": 25,
   "metadata": {},
   "outputs": [],
   "source": [
    "from pyspark import SparkConf, SparkContext\n",
    "from pyspark.sql import SparkSession, functions, types\n",
    "from pyspark.sql.types import StructType\n",
    "from pyspark.sql.types import StructField\n",
    "from pyspark.sql.types import StringType\n",
    "from pyspark.sql.functions import *\n",
    "from datetime import datetime\n",
    "\n",
    "import sys\n",
    "import operator\n",
    "import re, string\n",
    "assert sys.version_info >= (3, 5)  # make sure we have Python 3.5+\n",
    "DATA_PATH='/user/chowkec/capitalbikeshare/data/'\n",
    "OUTPUT_PATH='/user/chowkec/capitalbikeshare/output/'\n",
    "spark = SparkSession.builder.appName('analysis').getOrCreate()\n",
    "#assert spark.version >= '2.4' # make sure we have Spark 2.4+\n",
    "spark.sparkContext.setLogLevel('WARN')"
   ]
  },
  {
   "cell_type": "markdown",
   "metadata": {},
   "source": [
    "## Load trip and station data"
   ]
  },
  {
   "cell_type": "code",
   "execution_count": 26,
   "metadata": {},
   "outputs": [],
   "source": [
    "# create trip data schema\n",
    "tripdata_schema = types.StructType([\n",
    "    types.StructField('duration', types.IntegerType()),\n",
    "    types.StructField('start_date', types.TimestampType()),\n",
    "    types.StructField('end_date', types.TimestampType()),\n",
    "    types.StructField('start_station_number', types.StringType()),\n",
    "    types.StructField('start_station', types.StringType()),\n",
    "    types.StructField('end_station_number', types.StringType()),\n",
    "    types.StructField('end_station', types.StringType()),\n",
    "    types.StructField('bike_number', types.StringType()),\n",
    "    types.StructField('member_type', types.StringType()),  \n",
    "])"
   ]
  },
  {
   "cell_type": "code",
   "execution_count": 27,
   "metadata": {},
   "outputs": [],
   "source": [
    "# read trip info data\n",
    "trip_data = spark.read.csv(DATA_PATH+'trip', header=True, schema=tripdata_schema)\n",
    "trip_data.createOrReplaceTempView('tripdata_table')"
   ]
  },
  {
   "cell_type": "code",
   "execution_count": 27,
   "metadata": {},
   "outputs": [],
   "source": [
    "# read trip info data\n",
    "df="
   ]
  },
  {
   "cell_type": "code",
   "execution_count": 28,
   "metadata": {},
   "outputs": [],
   "source": [
    "# read station info data\n",
    "station_data = spark.read.csv(DATA_PATH+\"stationinfo\", header=True)\n",
    "station_data.createOrReplaceTempView('stationdata_table')"
   ]
  },
  {
   "cell_type": "code",
   "execution_count": 29,
   "metadata": {},
   "outputs": [
    {
     "name": "stdout",
     "output_type": "stream",
     "text": [
      "+----------+--------------------+--------------------+----------+-----------------+------------------+---------+--------+\n",
      "|station_id|         external_id|                name|short_name|              lat|               lon|region_id|capacity|\n",
      "+----------+--------------------+--------------------+----------+-----------------+------------------+---------+--------+\n",
      "|         1|082469cc-1f3f-11e...| Eads St & 15th St S|     31000|        38.858971|         -77.05323|       41|      15|\n",
      "|         2|08246b69-1f3f-11e...| 18th St & S Eads St|     31001|         38.85725|         -77.05332|       41|      11|\n",
      "|         3|08246c35-1f3f-11e...|Crystal Dr & 20th...|     31002|        38.856425|        -77.049232|       41|      17|\n",
      "|         4|08246cd5-1f3f-11e...|Crystal Dr & 15th...|     31003|         38.86017|        -77.049593|       41|      11|\n",
      "|         5|08246d68-1f3f-11e...|Aurora Hills Cmty...|     31004|        38.857866|         -77.05949|       41|      11|\n",
      "|         6|08246df5-1f3f-11e...|Pentagon City Met...|     31005|        38.862303|        -77.059936|       41|      19|\n",
      "|         7|08246e8c-1f3f-11e...|Army Navy Dr & S ...|     31006|          38.8637|          -77.0633|       41|      15|\n",
      "|         8|08246f1f-1f3f-11e...|Crystal City Metr...|     31007|38.85740496261504|-77.05113172531128|       41|      19|\n",
      "|        10|08247052-1f3f-11e...|Crystal Dr & 27th...|     31009|        38.848466|        -77.051514|       41|      11|\n",
      "|        11|08247269-1f3f-11e...|S Glebe Rd & Poto...|     31010|          38.8426|          -77.0502|       41|      11|\n",
      "+----------+--------------------+--------------------+----------+-----------------+------------------+---------+--------+\n",
      "only showing top 10 rows\n",
      "\n"
     ]
    }
   ],
   "source": [
    "# Create station info dataframe with useful info \n",
    "station_info_df = spark.sql(\"\"\"\n",
    "    SELECT station_id, external_id, name, short_name,\n",
    "    lat, lon, region_id, capacity FROM stationdata_table\n",
    "\"\"\")\n",
    "station_info_df.createOrReplaceTempView('station_info_table')\n",
    "station_info_df.show(10)"
   ]
  },
  {
   "cell_type": "code",
   "execution_count": 30,
   "metadata": {},
   "outputs": [],
   "source": [
    "station_info_df.coalesce(1).write.mode(\"overwrite\").csv(OUTPUT_PATH+\"station_info\", header=True)"
   ]
  },
  {
   "cell_type": "markdown",
   "metadata": {},
   "source": [
    "## Find popular start stations by total trip counts / percentage"
   ]
  },
  {
   "cell_type": "code",
   "execution_count": 31,
   "metadata": {},
   "outputs": [
    {
     "name": "stdout",
     "output_type": "stream",
     "text": [
      "+--------------------+--------------------+-------------+----------+---------+----------+----------+\n",
      "|       start_station|start_station_number|station_count|short_name|      lat|       lon|percentage|\n",
      "+--------------------+--------------------+-------------+----------+---------+----------+----------+\n",
      "|Columbus Circle /...|               31623|       527055|     31623| 38.89696| -77.00493|0.02055683|\n",
      "|Massachusetts Ave...|               31200|       458046|     31200|  38.9101|  -77.0444|0.01786526|\n",
      "|    Lincoln Memorial|               31258|       388464|     31258|38.888251|-77.049426|0.01515134|\n",
      "|      15th & P St NW|               31201|       361890|     31201| 38.90985|-77.034438|0.01411487|\n",
      "|Jefferson Dr & 14...|               31247|       354454|     31247|38.888553|-77.032429|0.01382484|\n",
      "|New Hampshire Ave...|               31229|       293267|     31229| 38.91554| -77.03818|0.01143835|\n",
      "|       Thomas Circle|               31241|       283118|     31241|  38.9059|  -77.0325|0.01104251|\n",
      "|      14th & V St NW|               31101|       281120|     31101|38.917931|-77.032112|0.01096458|\n",
      "|Eastern Market Me...|               31613|       279295|     31613|   38.884|-76.995397| 0.0108934|\n",
      "|17th & Corcoran S...|               31214|       265273|     31214|  38.9121|  -77.0387| 0.0103465|\n",
      "+--------------------+--------------------+-------------+----------+---------+----------+----------+\n",
      "only showing top 10 rows\n",
      "\n"
     ]
    }
   ],
   "source": [
    "# select useful info and sum station count group by start station name \n",
    "pop_start_station_df = spark.sql(\"\"\"\n",
    "    SELECT start_station, start_station_number, \n",
    "    COUNT(start_station) AS station_count FROM \n",
    "    tripdata_table GROUP BY start_station, \n",
    "    start_station_number ORDER BY 3 DESC\n",
    "\"\"\")\n",
    "pop_start_station_df.createOrReplaceTempView('pop_start_station_table')\n",
    "\n",
    "# join lontitude and latitude info from station data to trip data\n",
    "pop_start_station_df = spark.sql(\"\"\"\n",
    "    SELECT p.start_station, p.start_station_number, p.station_count, \n",
    "    s.short_name, s.lat, s.lon FROM pop_start_station_table as p, \n",
    "    station_info_table as s WHERE p.start_station_number = s. short_name\n",
    "\"\"\")\n",
    "pop_start_station_df.createOrReplaceTempView('pop_start_station_table')\n",
    "\n",
    "# calculate the trip percentage of each station\n",
    "total_df = spark.sql(\"\"\"\n",
    "    SELECT SUM(station_count) AS total_count FROM pop_start_station_table\n",
    "\"\"\")\n",
    "total_count = total_df.head()[0]\n",
    "pop_start_station_df = pop_start_station_df.withColumn \\\n",
    "    ('percentage', round(pop_start_station_df['station_count']/total_count, 8))\n",
    "pop_start_station_df.createOrReplaceTempView('pop_start_station_table')\n",
    "\n",
    "pop_start_station_df = spark.sql(\"\"\"\n",
    "    SELECT * FROM pop_start_station_table ORDER BY station_count DESC\n",
    "\"\"\")\n",
    "pop_start_station_df.show(10)"
   ]
  },
  {
   "cell_type": "code",
   "execution_count": 32,
   "metadata": {},
   "outputs": [],
   "source": [
    "pop_start_station_df.coalesce(1).write.mode(\"overwrite\").csv(OUTPUT_PATH+\"top_n_start_stations\", header=True)"
   ]
  },
  {
   "cell_type": "markdown",
   "metadata": {},
   "source": [
    "## Find popular end stations by total trip counts and percentage"
   ]
  },
  {
   "cell_type": "code",
   "execution_count": 33,
   "metadata": {},
   "outputs": [
    {
     "name": "stdout",
     "output_type": "stream",
     "text": [
      "+--------------------+------------------+-------------+----------+------------------+------------------+----------+\n",
      "|         end_station|end_station_number|station_count|short_name|               lat|               lon|percentage|\n",
      "+--------------------+------------------+-------------+----------+------------------+------------------+----------+\n",
      "|Columbus Circle /...|             31623|       547690|     31623|          38.89696|         -77.00493|0.02136259|\n",
      "|Massachusetts Ave...|             31200|       515022|     31200|           38.9101|          -77.0444|0.02008837|\n",
      "|      15th & P St NW|             31201|       396198|     31201|          38.90985|        -77.034438|0.01545366|\n",
      "|    Lincoln Memorial|             31258|       387459|     31258|         38.888251|        -77.049426|0.01511279|\n",
      "|Jefferson Dr & 14...|             31247|       365544|     31247|         38.888553|        -77.032429|  0.014258|\n",
      "|      14th & V St NW|             31101|       305834|     31101|         38.917931|        -77.032112|0.01192902|\n",
      "|New Hampshire Ave...|             31229|       287754|     31229|          38.91554|         -77.03818|0.01122381|\n",
      "|17th & Corcoran S...|             31214|       274901|     31214|           38.9121|          -77.0387|0.01072248|\n",
      "|Eastern Market Me...|             31613|       273472|     31613|            38.884|        -76.995397|0.01066674|\n",
      "|       8th & H St NW|             31228|       268284|     31228|           38.8997|        -77.023086|0.01046439|\n",
      "|       Thomas Circle|             31241|       266514|     31241|           38.9059|          -77.0325|0.01039535|\n",
      "|Smithsonian-Natio...|             31248|       256282|     31248|         38.888767|         -77.02858|0.00999625|\n",
      "|14th & Rhode Isla...|             31203|       248237|     31203|           38.9086|          -77.0323|0.00968246|\n",
      "|  Jefferson Memorial|             31249|       243518|     31249|         38.879819|        -77.037413|0.00949839|\n",
      "|       5th & K St NW|             31600|       241250|     31600|          38.90304|        -77.019027|0.00940993|\n",
      "|North Capitol St ...|             31624|       237549|     31624|         38.897446|        -77.009888|0.00926557|\n",
      "|       1st & M St NE|             31603|       230244|     31603|           38.9057|          -77.0056|0.00898064|\n",
      "|      14th & R St NW|             31202|       225032|     31202|         38.912681|        -77.032523|0.00877735|\n",
      "|7th & F St NW / N...|             31232|       222894|     31232|38.897020024228695|-77.02298998832703|0.00869395|\n",
      "|20th St & Florida...|             31110|       216550|     31110|           38.9154|          -77.0446|0.00844651|\n",
      "+--------------------+------------------+-------------+----------+------------------+------------------+----------+\n",
      "only showing top 20 rows\n",
      "\n"
     ]
    }
   ],
   "source": [
    "# select useful info and sum station count group by end station name \n",
    "pop_end_station_df = spark.sql(\"\"\"\n",
    "    SELECT end_station, end_station_number, COUNT(*) AS \n",
    "    station_count FROM tripdata_table GROUP BY end_station, \n",
    "    end_station_number ORDER BY 3 DESC\n",
    "\"\"\")\n",
    "pop_end_station_df.createOrReplaceTempView('pop_end_station_table')\n",
    "\n",
    "# join lontitude and latitude info from station data to trip data\n",
    "pop_end_station_df = spark.sql(\"\"\"\n",
    "    SELECT p.end_station, p.end_station_number, p.station_count, \n",
    "    s.short_name, s.lat, s.lon FROM pop_end_station_table as p, \n",
    "    station_info_table as s WHERE p.end_station_number = s. short_name\n",
    "\"\"\")\n",
    "pop_end_station_df.createOrReplaceTempView('pop_end_station_table')\n",
    "\n",
    "# calculate the trip percentage of each station\n",
    "total_df = spark.sql(\"\"\"\n",
    "    SELECT SUM(station_count) AS total_count FROM pop_end_station_table\n",
    "\"\"\")\n",
    "total_count = total_df.head()[0]\n",
    "pop_end_station_df = pop_end_station_df.withColumn \\\n",
    "    ('percentage', round(pop_end_station_df['station_count']/total_count, 8))\n",
    "pop_end_station_df.createOrReplaceTempView('pop_end_station_table')\n",
    "\n",
    "pop_end_station_df = spark.sql(\"\"\"\n",
    "    SELECT * FROM pop_end_station_table ORDER BY station_count DESC\n",
    "\"\"\")\n",
    "pop_end_station_df.show()"
   ]
  },
  {
   "cell_type": "code",
   "execution_count": 34,
   "metadata": {},
   "outputs": [],
   "source": [
    "pop_end_station_df.coalesce(1).write.mode(\"overwrite\").csv(OUTPUT_PATH+\"top_n_end_stations\", header=True)"
   ]
  },
  {
   "cell_type": "markdown",
   "metadata": {},
   "source": [
    "## Find popular paths by total trip counts and percentage"
   ]
  },
  {
   "cell_type": "code",
   "execution_count": 35,
   "metadata": {},
   "outputs": [
    {
     "name": "stdout",
     "output_type": "stream",
     "text": [
      "+--------------------+--------------------+--------------------+------------------+----------+----------+------------------+------------------+---------+---------+\n",
      "|       start_station|start_station_number|         end_station|end_station_number|path_count|percentage|         start_lon|         start_lat|  end_lon|  end_lat|\n",
      "+--------------------+--------------------+--------------------+------------------+----------+----------+------------------+------------------+---------+---------+\n",
      "|Georgia Ave & Eme...|               31405|Yuma St & Tenley ...|             31316|         2|    8.0E-8|        -77.027333|         38.949662|-77.08059|38.946182|\n",
      "|Calvert & Biltmor...|               31106|Yuma St & Tenley ...|             31316|         3|    1.2E-7|        -77.047637|         38.923203|-77.08059|38.946182|\n",
      "|Wisconsin Ave & N...|               31302|Yuma St & Tenley ...|             31316|       214|   8.34E-6|        -77.072755|         38.934881|-77.08059|38.946182|\n",
      "|Friendship Hts Me...|               32014|Yuma St & Tenley ...|             31316|         6|    2.3E-7|        -77.085998|         38.961763|-77.08059|38.946182|\n",
      "| River Rd & Landy Ln|               32046|Yuma St & Tenley ...|             31316|        14|    5.5E-7|        -77.103381|         38.964992|-77.08059|38.946182|\n",
      "|New Hampshire Ave...|               31275|Yuma St & Tenley ...|             31316|         1|    4.0E-8|        -77.051084|         38.901755|-77.08059|38.946182|\n",
      "|      10th & E St NW|               31256|Yuma St & Tenley ...|             31316|         1|    4.0E-8|        -77.026064|         38.895914|-77.08059|38.946182|\n",
      "| 14th & Irving St NW|               31124|Yuma St & Tenley ...|             31316|         1|    4.0E-8|        -77.032224|         38.928552|-77.08059|38.946182|\n",
      "|Wisconsin Ave & O...|               31312|Yuma St & Tenley ...|             31316|         1|    4.0E-8|        -77.063586|          38.90849|-77.08059|38.946182|\n",
      "|18th St & Wyoming...|               31114|Yuma St & Tenley ...|             31316|         4|    1.6E-7|        -77.041571|         38.918809|-77.08059|38.946182|\n",
      "|California St & F...|               31116|Yuma St & Tenley ...|             31316|         5|    1.9E-7|         -77.04062|         38.917761|-77.08059|38.946182|\n",
      "|20th & O St NW / ...|               31234|Yuma St & Tenley ...|             31316|         7|    2.7E-7|         -77.04478|         38.908905|-77.08059|38.946182|\n",
      "|Montgomery & East Ln|               32013|Yuma St & Tenley ...|             31316|         3|    1.2E-7|        -77.095367|         38.983525|-77.08059|38.946182|\n",
      "|US Dept of State ...|               31220|Yuma St & Tenley ...|             31316|         1|    4.0E-8|        -77.046587|         38.894919|-77.08059|38.946182|\n",
      "|      19th & K St NW|               31253|Yuma St & Tenley ...|             31316|         2|    8.0E-8|         -77.04337|         38.902204|-77.08059|38.946182|\n",
      "|Offutt Ln & Chevy...|               32029|Yuma St & Tenley ...|             31316|        11|    4.3E-7|        -77.094589|         38.977093|-77.08059|38.946182|\n",
      "|Massachusetts Ave...|               31200|Yuma St & Tenley ...|             31316|        18|    7.0E-7|          -77.0444|           38.9101|-77.08059|38.946182|\n",
      "|Woodmont Ave & St...|               32055|Yuma St & Tenley ...|             31316|         8|    3.1E-7|        -77.093522|         38.979875|-77.08059|38.946182|\n",
      "| 14th & Upshur St NW|               31406|Yuma St & Tenley ...|             31316|         1|    4.0E-8|-77.03267812728882|38.942475355602845|-77.08059|38.946182|\n",
      "|Yuma St & Tenley ...|               31316|Yuma St & Tenley ...|             31316|       101|   3.93E-6|         -77.08059|         38.946182|-77.08059|38.946182|\n",
      "+--------------------+--------------------+--------------------+------------------+----------+----------+------------------+------------------+---------+---------+\n",
      "only showing top 20 rows\n",
      "\n",
      "+--------------------+--------------------+--------------------+------------------+----------+----------+----------+---------+----------+---------+\n",
      "|       start_station|start_station_number|         end_station|end_station_number|path_count|percentage| start_lon|start_lat|   end_lon|  end_lat|\n",
      "+--------------------+--------------------+--------------------+------------------+----------+----------+----------+---------+----------+---------+\n",
      "|Jefferson Dr & 14...|               31247|Jefferson Dr & 14...|             31247|     46116|0.00179626|-77.032429|38.888553|-77.032429|38.888553|\n",
      "|    Lincoln Memorial|               31258|  Jefferson Memorial|             31249|     42101|0.00163987|-77.049426|38.888251|-77.037413|38.879819|\n",
      "|Smithsonian-Natio...|               31248|Smithsonian-Natio...|             31248|     39868|0.00155289| -77.02858|38.888767| -77.02858|38.888767|\n",
      "|Jefferson Dr & 14...|               31247|    Lincoln Memorial|             31258|     38480|0.00149883|-77.032429|38.888553|-77.049426|38.888251|\n",
      "|    Lincoln Memorial|               31258|Jefferson Dr & 14...|             31247|     34123|0.00132912|-77.049426|38.888251|-77.032429|38.888553|\n",
      "|Eastern Market Me...|               31613|Lincoln Park / 13...|             31619|     32589|0.00126937|-76.995397|   38.884|-76.988355|38.890461|\n",
      "|    Lincoln Memorial|               31258|    Lincoln Memorial|             31258|     31615|0.00123143|-77.049426|38.888251|-77.049426|38.888251|\n",
      "|Lincoln Park / 13...|               31619|Eastern Market Me...|             31613|     30470|0.00118683|-76.988355|38.890461|-76.995397|   38.884|\n",
      "|Columbus Circle /...|               31623|       8th & F St NE|             31631|     28602|0.00111407| -77.00493| 38.89696|-76.994749|38.897274|\n",
      "|New Hampshire Ave...|               31229|Massachusetts Ave...|             31200|     26178|0.00101966| -77.03818| 38.91554|  -77.0444|  38.9101|\n",
      "|Smithsonian-Natio...|               31248|    Lincoln Memorial|             31258|     26167|0.00101923| -77.02858|38.888767|-77.049426|38.888251|\n",
      "|       8th & F St NE|               31631|Columbus Circle /...|             31623|     24669| 9.6088E-4|-76.994749|38.897274| -77.00493| 38.89696|\n",
      "|Ohio Dr & West Ba...|               31240|Ohio Dr & West Ba...|             31240|     24018| 9.3552E-4| -77.04657| 38.88412| -77.04657| 38.88412|\n",
      "|      15th & P St NW|               31201|Massachusetts Ave...|             31200|     23533| 9.1663E-4|-77.034438| 38.90985|  -77.0444|  38.9101|\n",
      "|      13th & D St NE|               31622|Columbus Circle /...|             31623|     23316| 9.0818E-4|-76.987633|38.894832| -77.00493| 38.89696|\n",
      "|Massachusetts Ave...|               31200|      15th & P St NW|             31201|     23244| 9.0537E-4|  -77.0444|  38.9101|-77.034438| 38.90985|\n",
      "|  Jefferson Memorial|               31249|    Lincoln Memorial|             31258|     22884| 8.9135E-4|-77.037413|38.879819|-77.049426|38.888251|\n",
      "|    Lincoln Memorial|               31258|Smithsonian-Natio...|             31248|     21937| 8.5447E-4|-77.049426|38.888251| -77.02858|38.888767|\n",
      "|Columbus Circle /...|               31623|       6th & H St NE|             31615|     21239| 8.2728E-4| -77.00493| 38.89696|-76.998347|38.899972|\n",
      "|Columbus Circle /...|               31623|      13th & D St NE|             31622|     20748| 8.0815E-4| -77.00493| 38.89696|-76.987633|38.894832|\n",
      "+--------------------+--------------------+--------------------+------------------+----------+----------+----------+---------+----------+---------+\n",
      "only showing top 20 rows\n",
      "\n"
     ]
    }
   ],
   "source": [
    "# select useful info and sum station count group by end station name and end station name\n",
    "pop_path_df = spark.sql(\"\"\"\n",
    "    SELECT duration, start_station, start_station_number, end_station, \n",
    "    end_station_number FROM tripdata_table\n",
    "\"\"\")\n",
    "pop_path_df = pop_path_df.createOrReplaceTempView('path_table')\n",
    "pop_path_df = spark.sql(\"\"\"\n",
    "    SELECT start_station, start_station_number, end_station,  \n",
    "    end_station_number, COUNT(*) AS path_count \n",
    "    FROM path_table GROUP BY start_station,start_station_number, \n",
    "    end_station, end_station_number ORDER BY 3 DESC\n",
    "\"\"\")\n",
    "pop_path_df.createOrReplaceTempView('pop_path_table')\n",
    "\n",
    "# calculate the trip percentage of each path\n",
    "total_df = spark.sql(\"\"\"\n",
    "    SELECT SUM(path_count) AS total_count FROM pop_path_table\n",
    "\"\"\")\n",
    "total_count = total_df.head()[0]\n",
    "pop_path_df = pop_path_df.withColumn \\\n",
    "    ('percentage', round(pop_path_df['path_count']/total_count, 8))\n",
    "pop_path_df.createOrReplaceTempView('pop_path_table')\n",
    "\n",
    "# append lontitude and latitude info to table\n",
    "# which may useful in visualization\n",
    "# add start station lat. and lon. info\n",
    "pop_path_df = spark.sql(\"\"\"\n",
    "    SELECT p.*, s.lon AS start_lon, s.lat As start_lat \n",
    "    FROM pop_path_table p JOIN station_info_table s ON\n",
    "    p.start_station_number = s.short_name\n",
    "\"\"\")\n",
    "pop_path_df.createOrReplaceTempView('pop_path_table')\n",
    "\n",
    "# add end station lat. and lon. info\n",
    "pop_path_df = spark.sql(\"\"\"\n",
    "    SELECT p.*, s.lon AS end_lon, s.lat As end_lat \n",
    "    FROM pop_path_table p JOIN station_info_table s ON\n",
    "    p.end_station_number = s.short_name\n",
    "\"\"\")\n",
    "pop_path_df.createOrReplaceTempView('pop_path_table')\n",
    "\n",
    "pop_path_df.show()\n",
    "pop_path_df = spark.sql(\"\"\"\n",
    "    SELECT * FROM pop_path_table ORDER BY path_count DESC \n",
    "\"\"\")\n",
    "pop_path_df.show()"
   ]
  },
  {
   "cell_type": "code",
   "execution_count": 36,
   "metadata": {},
   "outputs": [],
   "source": [
    "pop_path_df.coalesce(1).write.mode(\"overwrite\").csv(OUTPUT_PATH+\"top_n_paths\", header=True)"
   ]
  },
  {
   "cell_type": "markdown",
   "metadata": {},
   "source": [
    "## Generate the number of weekday trip "
   ]
  },
  {
   "cell_type": "code",
   "execution_count": 37,
   "metadata": {},
   "outputs": [
    {
     "name": "stdout",
     "output_type": "stream",
     "text": [
      "+----------------+--------------+\n",
      "|date_description|number_of_trip|\n",
      "+----------------+--------------+\n",
      "|               0|       3551732|\n",
      "|               1|       3711240|\n",
      "|               2|       3809666|\n",
      "|               3|       3776861|\n",
      "|               4|       3795319|\n",
      "|               5|       3668264|\n",
      "|               6|       3360272|\n",
      "+----------------+--------------+\n",
      "\n"
     ]
    }
   ],
   "source": [
    "# extract only date from the date-time\n",
    "weekday_df = spark.sql(\"\"\"\n",
    "    SELECT start_date, CAST(start_date AS DATE) \n",
    "    AS only_date, end_date FROM tripdata_table\n",
    "\"\"\")\n",
    "weekday_df.createOrReplaceTempView('date_table')\n",
    "\n",
    "# cast date to particular weekday \n",
    "weekday_df = spark.sql(\"\"\"\n",
    "    SELECT start_date, end_date, WEEKDAY(only_date) \n",
    "    As date_description FROM date_table\n",
    "\"\"\")\n",
    "weekday_df.createOrReplaceTempView('weekday_table')\n",
    "\n",
    "# sum the trips of each weekday\n",
    "weekday_df = spark.sql(\"\"\"\n",
    "    SELECT date_description, COUNT(*) AS number_of_trip FROM \n",
    "    weekday_table GROUP BY date_description \n",
    "    ORDER BY date_description\n",
    "\"\"\")\n",
    "weekday_df.show(10)"
   ]
  },
  {
   "cell_type": "code",
   "execution_count": null,
   "metadata": {},
   "outputs": [],
   "source": [
    "weekday_df.coalesce(1).write.mode(\"overwrite\").csv(OUTPUT_PATH+\"number_of_weekday_trip\", header=True)"
   ]
  },
  {
   "cell_type": "markdown",
   "metadata": {},
   "source": [
    "## Generate the number of hourly trip "
   ]
  },
  {
   "cell_type": "code",
   "execution_count": null,
   "metadata": {},
   "outputs": [],
   "source": [
    "# extract only hour from the date-time\n",
    "hourly_df = spark.sql(\"\"\"\n",
    "    SELECT start_date, EXTRACT(HOUR FROM start_date)\n",
    "    AS start_hour, end_date, EXTRACT(HOUR FROM end_date) \n",
    "    AS end_hour FROM tripdata_table\n",
    "\"\"\")\n",
    "hourly_df.createOrReplaceTempView('hourly_table')\n",
    "\n",
    "# sum the trips of each hour\n",
    "hourly_df = spark.sql(\"\"\"\n",
    "    SELECT start_hour, COUNT(*) AS number_of_trip FROM \n",
    "    hourly_table GROUP BY start_hour ORDER BY start_hour\n",
    "\"\"\")\n",
    "hourly_df.show(10)"
   ]
  },
  {
   "cell_type": "code",
   "execution_count": null,
   "metadata": {},
   "outputs": [],
   "source": [
    "hourly_df.coalesce(1).write.mode(\"overwrite\").csv(OUTPUT_PATH+\"number_of_hourly_trip\", header=True)"
   ]
  },
  {
   "cell_type": "markdown",
   "metadata": {},
   "source": [
    "## Generate trip duration by minutes"
   ]
  },
  {
   "cell_type": "code",
   "execution_count": null,
   "metadata": {},
   "outputs": [],
   "source": [
    "# cast each trip duration from seconds to minutes\n",
    "duration_by_minutes_df = spark.sql(\"\"\"SELECT duration FROM tripdata_table\"\"\")\n",
    "duration_by_minutes_df.createOrReplaceTempView(\"duration_table\")\n",
    "duration_by_minutes_df = spark.sql(\"\"\"\n",
    "    SELECT duration, floor(duration/60) AS \n",
    "    duration_by_minutes FROM duration_table\n",
    "\"\"\")\n",
    "duration_by_minutes_df.createOrReplaceTempView(\"duration_by_minutes_table\")\n",
    "\n",
    "# sum trip duration by each time range\n",
    "duration_by_minutes_df = spark.sql(\"\"\"\n",
    "    SELECT duration_by_minutes, count(*) AS \n",
    "    duration_range_count FROM duration_by_minutes_table GROUP BY\n",
    "    duration_by_minutes ORDER BY duration_by_minutes\n",
    "\"\"\")\n",
    "duration_by_minutes_df.createOrReplaceTempView(\"duration_by_minutes_table\")\n",
    "\n",
    "# use 120min as a criterion to split time\n",
    "duration_less120_df = spark.sql(\"\"\"\n",
    "    SELECT duration_by_minutes, duration_range_count FROM \n",
    "    duration_by_minutes_table WHERE duration_by_minutes < 120\n",
    "\"\"\")\n",
    "duration_more120_df = spark.sql(\"\"\"\n",
    "    SELECT sum(duration_range_count) AS duration_count FROM \n",
    "    duration_by_minutes_table WHERE duration_by_minutes > 120\n",
    "\"\"\")\n",
    "duration_more120_df.createOrReplaceTempView(\"duration_more120_table\")\n",
    "duration_more120_df = duration_more120_df.withColumn('duration_by_minutes', lit(120))\n",
    "col = duration_more120_df['duration_count']\n",
    "duration_more120_df = duration_more120_df.withColumn('duration_range_count', col)\n",
    "duration_more120_df = duration_more120_df.drop('duration_count')\n",
    "duration_range_df = duration_less120_df.union(duration_more120_df)\n",
    "duration_range_df.show(10)"
   ]
  },
  {
   "cell_type": "code",
   "execution_count": null,
   "metadata": {},
   "outputs": [],
   "source": [
    "duration_range_df.coalesce(1).write.mode(\"overwrite\").csv(OUTPUT_PATH+\"duration_by_minutes\", header=True)"
   ]
  },
  {
   "cell_type": "markdown",
   "metadata": {},
   "source": [
    "## Generate hourly station activities (Borrow, Return, Net = (Return - Borrow))"
   ]
  },
  {
   "cell_type": "code",
   "execution_count": null,
   "metadata": {},
   "outputs": [],
   "source": [
    "# extract only hour from start date\n",
    "borrow_df = spark.sql(\"\"\"\n",
    "    SELECT start_station, start_station_number,\n",
    "    EXTRACT(HOUR FROM start_date) AS start_hour FROM tripdata_table\n",
    "\"\"\")\n",
    "borrow_df.createOrReplaceTempView(\"borrow_activity_table\")\n",
    "\n",
    "# sum the borrow activity of each station\n",
    "borrow_df = spark.sql(\"\"\"\n",
    "    SELECT start_station, start_station_number, \n",
    "    start_hour, count(*) AS borrow_activity FROM borrow_activity_table \n",
    "    GROUP BY start_station, start_station_number, start_hour \n",
    "    ORDER BY start_station, start_hour\n",
    "\"\"\")\n",
    "borrow_df.createOrReplaceTempView(\"borrow_activity_table\")\n",
    "\n",
    "# extract only hour from end date\n",
    "return_df = spark.sql(\"\"\"\n",
    "    SELECT end_station, end_station_number, \n",
    "    EXTRACT(HOUR FROM end_date) AS end_hour FROM tripdata_table\n",
    "\"\"\")\n",
    "\n",
    "# sum the return activity of each station\n",
    "return_df.createOrReplaceTempView(\"return_activity_table\")\n",
    "return_df = spark.sql(\"\"\"\n",
    "    SELECT end_station, end_station_number, end_hour, \n",
    "    count(*) AS return_activity FROM return_activity_table \n",
    "    GROUP BY end_station, end_station_number, end_hour \n",
    "    ORDER BY end_station, end_hour\n",
    "\"\"\")\n",
    "return_df.createOrReplaceTempView(\"return_activity_table\")\n",
    "\n",
    "# join borrow activity and return activity table together\n",
    "activity_df = spark.sql(\"\"\"\n",
    "    SELECT b.*, r.return_activity FROM borrow_activity_table b \n",
    "    JOIN return_activity_table r ON \n",
    "    (b.start_station_number = r.end_station_number AND \n",
    "    b.start_hour = r.end_hour) ORDER BY end_station, end_hour\n",
    "\"\"\")\n",
    "activity_df.createOrReplaceTempView(\"activity_table\")\n",
    "\n",
    "# calcute net(return - borrow) activity of each station\n",
    "activity_df = spark.sql(\"\"\"\n",
    "    SELECT start_station AS station_name, start_station_number\n",
    "    AS station_number, start_hour AS hour, borrow_activity, \n",
    "    return_activity, (return_activity - borrow_activity) \n",
    "    AS net_activity FROM activity_table\n",
    "\"\"\")\n",
    "activity_df.createOrReplaceTempView(\"activity_table\")\n",
    "\n",
    "# append lontitude and latitude info to table\n",
    "# which may useful in visualization\n",
    "activity_df = spark.sql(\"\"\"\n",
    "    SELECT a.*, s.lon, s.lat FROM activity_table a \n",
    "    JOIN station_info_table s ON \n",
    "    a.station_number = s.short_name\n",
    "\"\"\")\n",
    "activity_df = spark.sql(\"\"\"\n",
    "    SELECT a.*, s.lon, s.lat FROM activity_table a \n",
    "    JOIN station_info_table s ON a.station_number = s.short_name\n",
    "\"\"\")\n",
    "activity_df.show(30)\n"
   ]
  },
  {
   "cell_type": "code",
   "execution_count": null,
   "metadata": {},
   "outputs": [],
   "source": [
    "activity_df.coalesce(1).write.mode(\"overwrite\").csv(OUTPUT_PATH+\"station_activity_by_hours\", header=True)"
   ]
  },
  {
   "cell_type": "markdown",
   "metadata": {},
   "source": [
    "## Show yearly membership changes"
   ]
  },
  {
   "cell_type": "code",
   "execution_count": null,
   "metadata": {},
   "outputs": [],
   "source": [
    "# extract only year from the date-time\n",
    "membership_df = spark.sql(\"\"\"\n",
    "    SELECT EXTRACT(YEAR FROM start_date)AS year, \n",
    "    member_type FROM tripdata_table\n",
    "\"\"\")\n",
    "membership_df.createOrReplaceTempView(\"membership_table\")\n",
    "\n",
    "# sum differnt memebership by year\n",
    "membership_df = spark.sql(\"\"\"\n",
    "    SELECT *, COUNT(*) AS count FROM membership_table GROUP \n",
    "    BY year, member_type ORDER BY year, member_type\n",
    "\"\"\")\n",
    "membership_df.show(30)"
   ]
  },
  {
   "cell_type": "code",
   "execution_count": null,
   "metadata": {},
   "outputs": [],
   "source": [
    "membership_df.coalesce(1).write.mode(\"overwrite\").csv(OUTPUT_PATH+\"memebership_changes\", header=True)"
   ]
  },
  {
   "cell_type": "code",
   "execution_count": null,
   "metadata": {},
   "outputs": [],
   "source": []
  }
 ],
 "metadata": {
  "kernelspec": {
   "display_name": "Python 3",
   "language": "python",
   "name": "python3"
  },
  "language_info": {
   "codemirror_mode": {
    "name": "ipython",
    "version": 3
   },
   "file_extension": ".py",
   "mimetype": "text/x-python",
   "name": "python",
   "nbconvert_exporter": "python",
   "pygments_lexer": "ipython3",
   "version": "3.6.8"
  }
 },
 "nbformat": 4,
 "nbformat_minor": 2
}
